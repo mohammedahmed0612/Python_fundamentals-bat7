{
 "cells": [
  {
   "cell_type": "code",
   "execution_count": 1,
   "id": "2f0a087b-487f-4d58-a342-b5aae9053479",
   "metadata": {},
   "outputs": [
    {
     "name": "stdout",
     "output_type": "stream",
     "text": [
      "Hello all welcome to the python programming worlld!\n"
     ]
    }
   ],
   "source": [
    "print (\"Hello all welcome to the python programming worlld!\")"
   ]
  },
  {
   "cell_type": "code",
   "execution_count": null,
   "id": "36eaf159-0024-4173-ab32-162aac711811",
   "metadata": {},
   "outputs": [],
   "source": [
    "Shift + enter button on the keyboard"
   ]
  }
 ],
 "metadata": {
  "kernelspec": {
   "display_name": "Python 3 (ipykernel)",
   "language": "python",
   "name": "python3"
  },
  "language_info": {
   "codemirror_mode": {
    "name": "ipython",
    "version": 3
   },
   "file_extension": ".py",
   "mimetype": "text/x-python",
   "name": "python",
   "nbconvert_exporter": "python",
   "pygments_lexer": "ipython3",
   "version": "3.11.7"
  }
 },
 "nbformat": 4,
 "nbformat_minor": 5
}
