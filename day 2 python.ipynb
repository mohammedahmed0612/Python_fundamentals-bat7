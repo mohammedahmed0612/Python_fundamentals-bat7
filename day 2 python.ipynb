{
 "cells": [
  {
   "cell_type": "code",
   "execution_count": null,
   "id": "96430308-555b-4700-a26e-c0275b7c0ae5",
   "metadata": {},
   "outputs": [],
   "source": [
    "introduction to python programming :"
   ]
  },
  {
   "cell_type": "code",
   "execution_count": null,
   "id": "5252e666-74db-4235-82d2-4d25a6a4353d",
   "metadata": {},
   "outputs": [],
   "source": [
    "understanding the varaibles in python :"
   ]
  },
  {
   "cell_type": "code",
   "execution_count": null,
   "id": "ade00d23-c02e-4b77-8c8c-c96c564a84a9",
   "metadata": {},
   "outputs": [],
   "source": []
  },
  {
   "cell_type": "code",
   "execution_count": 8,
   "id": "e312caff-bc4b-4f8e-8b25-74ca7774c502",
   "metadata": {},
   "outputs": [],
   "source": [
    "x = 3\n",
    "Y = 2"
   ]
  },
  {
   "cell_type": "code",
   "execution_count": 7,
   "id": "b10cd3ee-19ff-4a17-b20b-55a318c033dc",
   "metadata": {},
   "outputs": [
    {
     "ename": "NameError",
     "evalue": "name 'y' is not defined",
     "output_type": "error",
     "traceback": [
      "\u001b[1;31m---------------------------------------------------------------------------\u001b[0m",
      "\u001b[1;31mNameError\u001b[0m                                 Traceback (most recent call last)",
      "Cell \u001b[1;32mIn[7], line 1\u001b[0m\n\u001b[1;32m----> 1\u001b[0m z \u001b[38;5;241m=\u001b[39m x\u001b[38;5;241m+\u001b[39my \n\u001b[0;32m      2\u001b[0m \u001b[38;5;28mprint\u001b[39m(z)\n",
      "\u001b[1;31mNameError\u001b[0m: name 'y' is not defined"
     ]
    }
   ],
   "source": [
    "z = x+Y \n",
    "print(z)"
   ]
  },
  {
   "cell_type": "code",
   "execution_count": null,
   "id": "f03189a8-b797-481c-83d0-a58eb8d9531b",
   "metadata": {},
   "outputs": [],
   "source": []
  }
 ],
 "metadata": {
  "kernelspec": {
   "display_name": "Python 3 (ipykernel)",
   "language": "python",
   "name": "python3"
  },
  "language_info": {
   "codemirror_mode": {
    "name": "ipython",
    "version": 3
   },
   "file_extension": ".py",
   "mimetype": "text/x-python",
   "name": "python",
   "nbconvert_exporter": "python",
   "pygments_lexer": "ipython3",
   "version": "3.11.7"
  }
 },
 "nbformat": 4,
 "nbformat_minor": 5
}
