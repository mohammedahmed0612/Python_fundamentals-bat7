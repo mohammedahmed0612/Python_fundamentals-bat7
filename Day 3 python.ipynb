{
 "cells": [
  {
   "cell_type": "code",
   "execution_count": null,
   "id": "6a4f279b-aaca-4ece-bfc1-46511d074d0b",
   "metadata": {},
   "outputs": [],
   "source": [
    "continuation with string"
   ]
  },
  {
   "cell_type": "code",
   "execution_count": null,
   "id": "fb685e61-d910-4523-ae32-292fe8c6fe1e",
   "metadata": {},
   "outputs": [],
   "source": []
  },
  {
   "cell_type": "code",
   "execution_count": 3,
   "id": "16609d77-5818-4069-a33d-8395c8ba9bfd",
   "metadata": {},
   "outputs": [
    {
     "name": "stdout",
     "output_type": "stream",
     "text": [
      "ahmed\n"
     ]
    }
   ],
   "source": [
    "fullname = \"ahmed\"\n",
    "print(fullname)"
   ]
  },
  {
   "cell_type": "code",
   "execution_count": null,
   "id": "b00c84ad-3664-4612-a150-757330057810",
   "metadata": {},
   "outputs": [],
   "source": [
    "#Down one is for first alpha for capital"
   ]
  },
  {
   "cell_type": "code",
   "execution_count": 4,
   "id": "06ea6937-e9d2-4d3d-b50a-23df32d4810b",
   "metadata": {},
   "outputs": [
    {
     "name": "stdout",
     "output_type": "stream",
     "text": [
      "Ahmed\n"
     ]
    }
   ],
   "source": [
    "print(fullname.title())"
   ]
  },
  {
   "cell_type": "code",
   "execution_count": null,
   "id": "fe39831d-cdc9-4465-88c2-1248906572bc",
   "metadata": {},
   "outputs": [],
   "source": [
    "# i want full name in capital letter"
   ]
  },
  {
   "cell_type": "code",
   "execution_count": 5,
   "id": "264c8618-259d-4bf0-848c-32e9fb45b80d",
   "metadata": {},
   "outputs": [
    {
     "name": "stdout",
     "output_type": "stream",
     "text": [
      "AHMED\n"
     ]
    }
   ],
   "source": [
    "print(fullname.upper())"
   ]
  },
  {
   "cell_type": "code",
   "execution_count": 6,
   "id": "c34d121d-3f75-4689-b1de-412fe1194cff",
   "metadata": {},
   "outputs": [],
   "source": [
    "# i want full name in lower case"
   ]
  },
  {
   "cell_type": "code",
   "execution_count": 7,
   "id": "f9bcbbac-124d-4565-a02c-6199e33d836a",
   "metadata": {},
   "outputs": [
    {
     "name": "stdout",
     "output_type": "stream",
     "text": [
      "ahmed\n"
     ]
    }
   ],
   "source": [
    "print(fullname.lower())"
   ]
  },
  {
   "cell_type": "code",
   "execution_count": 8,
   "id": "51008489-31b0-47b5-bf78-f5910c9a27cb",
   "metadata": {},
   "outputs": [],
   "source": [
    "# general syntax of f string "
   ]
  },
  {
   "cell_type": "code",
   "execution_count": null,
   "id": "ff84b2b9-652a-4697-be41-23b02161e96c",
   "metadata": {},
   "outputs": [],
   "source": [
    "f\"custom message {place_holder_1} {place_holder_2} {place_holder_3}.............{place_holder_n}\""
   ]
  },
  {
   "cell_type": "code",
   "execution_count": null,
   "id": "b9bd4885-2fdb-4ff2-a138-52b24dd95756",
   "metadata": {},
   "outputs": [],
   "source": []
  },
  {
   "cell_type": "code",
   "execution_count": 9,
   "id": "f8c69d14-7786-4d8a-acfa-738df6a828c3",
   "metadata": {},
   "outputs": [],
   "source": [
    "first_name = \"ahmed\"\n",
    "last_name = \"mohiuddin\""
   ]
  },
  {
   "cell_type": "code",
   "execution_count": 10,
   "id": "0d25b009-876b-44c8-b231-01f1ac27d69e",
   "metadata": {},
   "outputs": [],
   "source": [
    "#req : i want to get the full name..........?"
   ]
  },
  {
   "cell_type": "code",
   "execution_count": 13,
   "id": "71bfc549-c8ae-4d4e-b21a-7c1739401b57",
   "metadata": {},
   "outputs": [
    {
     "name": "stdout",
     "output_type": "stream",
     "text": [
      "Ahmed Mohiuddin\n"
     ]
    }
   ],
   "source": [
    "fullname = f\"{first_name} {last_name}\"\n",
    "print(fullname.title())"
   ]
  },
  {
   "cell_type": "code",
   "execution_count": 15,
   "id": "d4c20a46-dcea-45f1-97e3-5d56cd771183",
   "metadata": {},
   "outputs": [
    {
     "name": "stdout",
     "output_type": "stream",
     "text": [
      "keep up the good work Ahmed Mohiuddin\n"
     ]
    }
   ],
   "source": [
    "message = f\"keep up the good work {fullname.title()}\"\n",
    "print(message)"
   ]
  },
  {
   "cell_type": "code",
   "execution_count": null,
   "id": "40528164-c0d4-4254-99b9-64f091621b44",
   "metadata": {},
   "outputs": [],
   "source": []
  },
  {
   "cell_type": "code",
   "execution_count": null,
   "id": "b658e771-ece6-42ba-8365-995a65ab8bff",
   "metadata": {},
   "outputs": [],
   "source": [
    "#adding a white spaces to string :"
   ]
  },
  {
   "cell_type": "code",
   "execution_count": 16,
   "id": "f0fe1939-dcca-4388-8ee0-cef08b9a55a7",
   "metadata": {},
   "outputs": [
    {
     "name": "stdout",
     "output_type": "stream",
     "text": [
      "fav_lang:pythonjavac++reactc\n"
     ]
    }
   ],
   "source": [
    "print(\"fav_lang:pythonjavac++reactc\")"
   ]
  },
  {
   "cell_type": "code",
   "execution_count": 17,
   "id": "88e3370c-bf54-4f06-83c9-1124fb154546",
   "metadata": {},
   "outputs": [
    {
     "name": "stdout",
     "output_type": "stream",
     "text": [
      "fav_lang:\n",
      "python\n",
      "java\n",
      "c++\n",
      "react\n",
      "c\n"
     ]
    }
   ],
   "source": [
    "print(\"fav_lang:\\npython\\njava\\nc++\\nreact\\nc\") #\\n --> new line delimiter"
   ]
  },
  {
   "cell_type": "code",
   "execution_count": 18,
   "id": "b5a3940c-1784-403d-b85c-7a297bc35582",
   "metadata": {},
   "outputs": [
    {
     "name": "stdout",
     "output_type": "stream",
     "text": [
      "fav_lang:\n",
      "\tpython\n",
      "\tjava\n",
      "\tc++\n",
      "\treact\n",
      "\tc\n"
     ]
    }
   ],
   "source": [
    "print(\"fav_lang:\\n\\tpython\\n\\tjava\\n\\tc++\\n\\treact\\n\\tc\") #\\t --> tab delimiter"
   ]
  },
  {
   "cell_type": "code",
   "execution_count": null,
   "id": "229f44d3-b6c3-485c-837a-ac08ed703bd8",
   "metadata": {},
   "outputs": [],
   "source": []
  }
 ],
 "metadata": {
  "kernelspec": {
   "display_name": "Python 3 (ipykernel)",
   "language": "python",
   "name": "python3"
  },
  "language_info": {
   "codemirror_mode": {
    "name": "ipython",
    "version": 3
   },
   "file_extension": ".py",
   "mimetype": "text/x-python",
   "name": "python",
   "nbconvert_exporter": "python",
   "pygments_lexer": "ipython3",
   "version": "3.11.7"
  }
 },
 "nbformat": 4,
 "nbformat_minor": 5
}
